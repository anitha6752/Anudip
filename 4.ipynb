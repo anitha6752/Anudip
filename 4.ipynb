{
  "nbformat": 4,
  "nbformat_minor": 0,
  "metadata": {
    "colab": {
      "provenance": [],
      "authorship_tag": "ABX9TyPOx9bctW8J6uls1/Y4FFdq",
      "include_colab_link": true
    },
    "kernelspec": {
      "name": "python3",
      "display_name": "Python 3"
    },
    "language_info": {
      "name": "python"
    }
  },
  "cells": [
    {
      "cell_type": "markdown",
      "metadata": {
        "id": "view-in-github",
        "colab_type": "text"
      },
      "source": [
        "<a href=\"https://colab.research.google.com/github/anitha6752/Anudip/blob/main/4.ipynb\" target=\"_parent\"><img src=\"https://colab.research.google.com/assets/colab-badge.svg\" alt=\"Open In Colab\"/></a>"
      ]
    },
    {
      "cell_type": "code",
      "execution_count": 1,
      "metadata": {
        "colab": {
          "base_uri": "https://localhost:8080/"
        },
        "id": "A6iKPOm_3TyY",
        "outputId": "8b88d019-c0df-4189-9daf-5d110b89aa5f"
      },
      "outputs": [
        {
          "output_type": "stream",
          "name": "stdout",
          "text": [
            "Has the student passed? True\n"
          ]
        }
      ],
      "source": [
        "score=75\n",
        "has_passed=(score>=60)\n",
        "print(\"Has the student passed?\",has_passed)"
      ]
    },
    {
      "cell_type": "code",
      "source": [
        "(score>=60)"
      ],
      "metadata": {
        "colab": {
          "base_uri": "https://localhost:8080/"
        },
        "id": "zRMYgR-k3hGh",
        "outputId": "e1f1a06e-9756-4a00-f2bb-03e180f4f87d"
      },
      "execution_count": 2,
      "outputs": [
        {
          "output_type": "execute_result",
          "data": {
            "text/plain": [
              "True"
            ]
          },
          "metadata": {},
          "execution_count": 2
        }
      ]
    },
    {
      "cell_type": "code",
      "source": [
        "a=40\n",
        "b=50\n",
        "if(a<b):\n",
        "    print(\"a is cheaper\")\n",
        "else:\n",
        "    print(\"b is cheaper\")"
      ],
      "metadata": {
        "colab": {
          "base_uri": "https://localhost:8080/"
        },
        "id": "uppALlf-3mGj",
        "outputId": "22f356fd-90fa-4ca4-95cf-0fdd5952f6e3"
      },
      "execution_count": 3,
      "outputs": [
        {
          "output_type": "stream",
          "name": "stdout",
          "text": [
            "a is cheaper\n"
          ]
        }
      ]
    },
    {
      "cell_type": "code",
      "source": [
        "3>2 and 4>5\n",
        "True and False"
      ],
      "metadata": {
        "colab": {
          "base_uri": "https://localhost:8080/"
        },
        "id": "uheCqRnX3mDG",
        "outputId": "1ec5b7e6-73a2-4289-fd68-86fe7b19cbe0"
      },
      "execution_count": 4,
      "outputs": [
        {
          "output_type": "execute_result",
          "data": {
            "text/plain": [
              "False"
            ]
          },
          "metadata": {},
          "execution_count": 4
        }
      ]
    },
    {
      "cell_type": "code",
      "source": [
        "8>3 and 3>2\n",
        "True and False"
      ],
      "metadata": {
        "colab": {
          "base_uri": "https://localhost:8080/"
        },
        "id": "0C3VpviM3vN6",
        "outputId": "9b4daa27-8892-4a83-fa55-e3ed3895f294"
      },
      "execution_count": 5,
      "outputs": [
        {
          "output_type": "execute_result",
          "data": {
            "text/plain": [
              "False"
            ]
          },
          "metadata": {},
          "execution_count": 5
        }
      ]
    },
    {
      "cell_type": "code",
      "source": [
        "a=5\n",
        "b=3\n",
        "result= a&b\n",
        "print(result)"
      ],
      "metadata": {
        "colab": {
          "base_uri": "https://localhost:8080/"
        },
        "id": "U50eQrB23yob",
        "outputId": "1775ef11-12c9-44a9-da47-55dc9410effe"
      },
      "execution_count": 6,
      "outputs": [
        {
          "output_type": "stream",
          "name": "stdout",
          "text": [
            "1\n"
          ]
        }
      ]
    },
    {
      "cell_type": "code",
      "source": [
        "5&6"
      ],
      "metadata": {
        "colab": {
          "base_uri": "https://localhost:8080/"
        },
        "id": "KhTX0MuF34Od",
        "outputId": "682836d7-4396-48cd-9b25-80a748ff88a4"
      },
      "execution_count": 7,
      "outputs": [
        {
          "output_type": "execute_result",
          "data": {
            "text/plain": [
              "4"
            ]
          },
          "metadata": {},
          "execution_count": 7
        }
      ]
    },
    {
      "cell_type": "code",
      "source": [
        "a=3\n",
        "b=9\n",
        "result= a|b\n",
        "print(result)"
      ],
      "metadata": {
        "colab": {
          "base_uri": "https://localhost:8080/"
        },
        "id": "bl5m0Gon35aB",
        "outputId": "35250484-1b33-40db-80e9-6efa8090938f"
      },
      "execution_count": 8,
      "outputs": [
        {
          "output_type": "stream",
          "name": "stdout",
          "text": [
            "11\n"
          ]
        }
      ]
    },
    {
      "cell_type": "code",
      "source": [
        "#membership operator\n",
        "#in\n",
        "list=[1,2,3,4,5]\n",
        "print(3 in list)"
      ],
      "metadata": {
        "colab": {
          "base_uri": "https://localhost:8080/"
        },
        "id": "8U5iGhse3-ND",
        "outputId": "43dc6a47-618d-44e4-bfc3-8dc7c3c7cf8e"
      },
      "execution_count": 9,
      "outputs": [
        {
          "output_type": "stream",
          "name": "stdout",
          "text": [
            "True\n"
          ]
        }
      ]
    },
    {
      "cell_type": "code",
      "source": [
        "str=[2,4,5,6,7]\n",
        "print(1 in str)"
      ],
      "metadata": {
        "colab": {
          "base_uri": "https://localhost:8080/"
        },
        "id": "C8DXI4cB4B98",
        "outputId": "fd74377a-d92e-461e-f8c2-1ba181d16a12"
      },
      "execution_count": 10,
      "outputs": [
        {
          "output_type": "stream",
          "name": "stdout",
          "text": [
            "False\n"
          ]
        }
      ]
    },
    {
      "cell_type": "code",
      "source": [
        "#not in\n",
        "str=[1,3,2,4,5,8,9,6,7]\n",
        "print(1 in str)"
      ],
      "metadata": {
        "colab": {
          "base_uri": "https://localhost:8080/"
        },
        "id": "NSe_3PRf4Fqa",
        "outputId": "7ea8a6d3-1e63-408f-dca5-2f38d5f3c8fb"
      },
      "execution_count": 11,
      "outputs": [
        {
          "output_type": "stream",
          "name": "stdout",
          "text": [
            "True\n"
          ]
        }
      ]
    },
    {
      "cell_type": "code",
      "source": [
        "#not in\n",
        "str=[1,3,2,4,5,8,9,6,7]\n",
        "print(1 in str)"
      ],
      "metadata": {
        "colab": {
          "base_uri": "https://localhost:8080/"
        },
        "id": "pw5RfEp44Kvp",
        "outputId": "5d84a857-e329-4e04-9b70-a95c95c88655"
      },
      "execution_count": 12,
      "outputs": [
        {
          "output_type": "stream",
          "name": "stdout",
          "text": [
            "True\n"
          ]
        }
      ]
    },
    {
      "cell_type": "code",
      "source": [
        "fruit=[\"apple\",\"banana\",\"kiwi\"]\n",
        "print(\"grape\" not in fruit)"
      ],
      "metadata": {
        "colab": {
          "base_uri": "https://localhost:8080/"
        },
        "id": "CeIAIwvR4Nw7",
        "outputId": "6388e841-8890-4234-d845-784f876d0939"
      },
      "execution_count": 13,
      "outputs": [
        {
          "output_type": "stream",
          "name": "stdout",
          "text": [
            "True\n"
          ]
        }
      ]
    },
    {
      "cell_type": "code",
      "source": [
        "fruit=[\"apple\",\"banana\",\"kiwi\"]\n",
        "print(\"grape\" not in fruit)"
      ],
      "metadata": {
        "colab": {
          "base_uri": "https://localhost:8080/"
        },
        "id": "GNnHMxvt4RWV",
        "outputId": "17fdadbd-1e18-41ff-9541-c24c232a791f"
      },
      "execution_count": 14,
      "outputs": [
        {
          "output_type": "stream",
          "name": "stdout",
          "text": [
            "True\n"
          ]
        }
      ]
    },
    {
      "cell_type": "code",
      "source": [
        "str=\"wlcm to python\"\n",
        "print(\"java\" in str)\n"
      ],
      "metadata": {
        "colab": {
          "base_uri": "https://localhost:8080/"
        },
        "id": "JOtkXl6q4UNL",
        "outputId": "6fb2e742-7a63-4497-ffd5-b3517bcf5bb9"
      },
      "execution_count": 15,
      "outputs": [
        {
          "output_type": "stream",
          "name": "stdout",
          "text": [
            "False\n"
          ]
        }
      ]
    },
    {
      "cell_type": "code",
      "source": [
        "str=\"wlcm to python\"\n",
        "print(\"java\" in str)\n"
      ],
      "metadata": {
        "colab": {
          "base_uri": "https://localhost:8080/"
        },
        "id": "_732VtWz4YBc",
        "outputId": "d09786b3-4c33-4b03-efbb-aea5d1fb314a"
      },
      "execution_count": 16,
      "outputs": [
        {
          "output_type": "stream",
          "name": "stdout",
          "text": [
            "False\n"
          ]
        }
      ]
    },
    {
      "cell_type": "code",
      "source": [
        "dict={\"name\":\"Alice\",\"age\":25,\"city\":\"Nwe York\"}\n",
        "print(\"name\" in dict)"
      ],
      "metadata": {
        "colab": {
          "base_uri": "https://localhost:8080/"
        },
        "id": "vn_gqGpa4blU",
        "outputId": "ab482521-aa16-4d96-d867-9031b5377b6f"
      },
      "execution_count": 17,
      "outputs": [
        {
          "output_type": "stream",
          "name": "stdout",
          "text": [
            "True\n"
          ]
        }
      ]
    },
    {
      "cell_type": "code",
      "source": [
        "dict={\"name\":\"Alice\",\"age\":25,\"city\":\"Nwe York\"}\n",
        "print(\"Alice\" in dict)"
      ],
      "metadata": {
        "colab": {
          "base_uri": "https://localhost:8080/"
        },
        "id": "lWBos6Rn4ggc",
        "outputId": "c12c2be6-7a0e-49b0-d15b-beef5a1bc698"
      },
      "execution_count": 18,
      "outputs": [
        {
          "output_type": "stream",
          "name": "stdout",
          "text": [
            "False\n"
          ]
        }
      ]
    },
    {
      "cell_type": "code",
      "source": [
        "dict={\"name\":\"Alice\",\"age\":25,\"city\":\"Nwe York\"}\n",
        "print(\"Alice\" not in dict)"
      ],
      "metadata": {
        "colab": {
          "base_uri": "https://localhost:8080/"
        },
        "id": "sDR64pyz4g6-",
        "outputId": "fdae70cc-8acd-4cd3-a609-dc400dc8f46b"
      },
      "execution_count": 19,
      "outputs": [
        {
          "output_type": "stream",
          "name": "stdout",
          "text": [
            "True\n"
          ]
        }
      ]
    },
    {
      "cell_type": "code",
      "source": [
        "#if\n",
        "a=[1,2,3]\n",
        "if 1 in a:\n",
        "    print(\"got it\")\n",
        "print(\"not printed\")"
      ],
      "metadata": {
        "colab": {
          "base_uri": "https://localhost:8080/"
        },
        "id": "BKgKDssR4oEk",
        "outputId": "f0479887-7b1d-4ca9-a649-07737f62c58c"
      },
      "execution_count": 20,
      "outputs": [
        {
          "output_type": "stream",
          "name": "stdout",
          "text": [
            "got it\n",
            "not printed\n"
          ]
        }
      ]
    },
    {
      "cell_type": "code",
      "source": [
        "#if\n",
        "a=[1,2,3]\n",
        "if 10 in a:\n",
        "    print(\"got it\")\n",
        "print(\"not printed\")"
      ],
      "metadata": {
        "colab": {
          "base_uri": "https://localhost:8080/"
        },
        "id": "8GwW1uRE4rgp",
        "outputId": "7abca66f-94ab-45f3-b2b7-d13b233e5393"
      },
      "execution_count": 21,
      "outputs": [
        {
          "output_type": "stream",
          "name": "stdout",
          "text": [
            "not printed\n"
          ]
        }
      ]
    },
    {
      "cell_type": "code",
      "source": [
        "age=19\n",
        "if age>=18:\n",
        "    print(\"eligible to vote\")"
      ],
      "metadata": {
        "colab": {
          "base_uri": "https://localhost:8080/"
        },
        "id": "EWfR5bKN4unW",
        "outputId": "5cbf2236-8b6b-4ccb-8cc8-56494c578cb7"
      },
      "execution_count": 22,
      "outputs": [
        {
          "output_type": "stream",
          "name": "stdout",
          "text": [
            "eligible to vote\n"
          ]
        }
      ]
    },
    {
      "cell_type": "code",
      "source": [
        "if 5<2:\n",
        "    print(\"greater\")"
      ],
      "metadata": {
        "id": "BwZZ1VZW4zCJ"
      },
      "execution_count": 25,
      "outputs": []
    },
    {
      "cell_type": "code",
      "source": [
        "if 5>2:\n",
        "    print(\"greater\")"
      ],
      "metadata": {
        "colab": {
          "base_uri": "https://localhost:8080/"
        },
        "id": "ZkKkBvW843B4",
        "outputId": "2703ce26-ae5b-447b-c0d5-4df762e75d98"
      },
      "execution_count": 26,
      "outputs": [
        {
          "output_type": "stream",
          "name": "stdout",
          "text": [
            "greater\n"
          ]
        }
      ]
    },
    {
      "cell_type": "code",
      "source": [
        "if 5<2:\n",
        "    print(\"greater\")\n",
        "print(\"this will be anways printed\")"
      ],
      "metadata": {
        "colab": {
          "base_uri": "https://localhost:8080/"
        },
        "id": "GGOwtH7z5D9A",
        "outputId": "878c8634-1c1c-42ac-ca0f-d0609626ab3e"
      },
      "execution_count": 27,
      "outputs": [
        {
          "output_type": "stream",
          "name": "stdout",
          "text": [
            "this will be anways printed\n"
          ]
        }
      ]
    },
    {
      "cell_type": "code",
      "source": [
        "if 5>2 or 7<3:\n",
        "    print(\"if statement with logical operator\")\n",
        "    print(\"statement 2\")"
      ],
      "metadata": {
        "colab": {
          "base_uri": "https://localhost:8080/"
        },
        "id": "gFVqAsYE5Hey",
        "outputId": "fa949f0b-837c-44ac-cd4d-3eb1d767cbf0"
      },
      "execution_count": 28,
      "outputs": [
        {
          "output_type": "stream",
          "name": "stdout",
          "text": [
            "if statement with logical operator\n",
            "statement 2\n"
          ]
        }
      ]
    },
    {
      "cell_type": "code",
      "source": [
        "if 5>2 or 7>3:\n",
        "    print(\"if statement with logical operator\")\n",
        "    print(\"statement 2\")"
      ],
      "metadata": {
        "colab": {
          "base_uri": "https://localhost:8080/"
        },
        "id": "nkv2CVR25MIu",
        "outputId": "fc063bd6-9d52-4820-dc35-a4e316b38ca1"
      },
      "execution_count": 29,
      "outputs": [
        {
          "output_type": "stream",
          "name": "stdout",
          "text": [
            "if statement with logical operator\n",
            "statement 2\n"
          ]
        }
      ]
    },
    {
      "cell_type": "code",
      "source": [
        "input(\"Enter your name\")"
      ],
      "metadata": {
        "colab": {
          "base_uri": "https://localhost:8080/",
          "height": 53
        },
        "id": "fOI2DLVL5OtD",
        "outputId": "ed9a1e71-c077-4070-e393-99e252f3b87f"
      },
      "execution_count": 30,
      "outputs": [
        {
          "name": "stdout",
          "output_type": "stream",
          "text": [
            "Enter your nameAnu\n"
          ]
        },
        {
          "output_type": "execute_result",
          "data": {
            "text/plain": [
              "'Anu'"
            ],
            "application/vnd.google.colaboratory.intrinsic+json": {
              "type": "string"
            }
          },
          "metadata": {},
          "execution_count": 30
        }
      ]
    },
    {
      "cell_type": "code",
      "source": [
        "temp=30\n",
        "if temp<25:\n",
        "    print(\"Hot day\")\n",
        "else:\n",
        "    print(\"cool day\")\n",
        "print(\"this will be printed\")\n"
      ],
      "metadata": {
        "colab": {
          "base_uri": "https://localhost:8080/"
        },
        "id": "h3EYJJt85XzW",
        "outputId": "5b76aea2-caf7-4e4d-8326-c0b26fc5742c"
      },
      "execution_count": 31,
      "outputs": [
        {
          "output_type": "stream",
          "name": "stdout",
          "text": [
            "cool day\n",
            "this will be printed\n"
          ]
        }
      ]
    },
    {
      "cell_type": "code",
      "source": [
        "num=int(input())\n",
        "if num%2==0:\n",
        "    print(\"even number\")\n",
        "else:\n",
        "    print(\"odd\")"
      ],
      "metadata": {
        "colab": {
          "base_uri": "https://localhost:8080/"
        },
        "id": "WZ7fHFw85c-H",
        "outputId": "aa4ee5a5-175d-4f56-dc4c-b61c8b4b1608"
      },
      "execution_count": 33,
      "outputs": [
        {
          "output_type": "stream",
          "name": "stdout",
          "text": [
            "3\n",
            "odd\n"
          ]
        }
      ]
    },
    {
      "cell_type": "code",
      "source": [
        "marks=75\n",
        "if marks>=90:\n",
        "    print(\"A\")\n",
        "elif marks>=80:\n",
        "    print(\"B\")\n",
        "elif marks>=70:\n",
        "    print(\"C\")\n",
        "else:\n",
        "    print(\"D\")"
      ],
      "metadata": {
        "colab": {
          "base_uri": "https://localhost:8080/"
        },
        "id": "zlu6sY_z59QD",
        "outputId": "95b3606c-0171-4ecd-9b18-07e882933810"
      },
      "execution_count": 34,
      "outputs": [
        {
          "output_type": "stream",
          "name": "stdout",
          "text": [
            "C\n"
          ]
        }
      ]
    },
    {
      "cell_type": "code",
      "source": [
        "marks=75\n",
        "if marks>=90:\n",
        "    print(\"A\")\n",
        "elif marks>=80:\n",
        "    print(\"B\")\n",
        "elif marks>=70:\n",
        "    print(\"C\")\n",
        "else:\n",
        "    print(\"D\")"
      ],
      "metadata": {
        "colab": {
          "base_uri": "https://localhost:8080/"
        },
        "id": "IiAqofSR5-i4",
        "outputId": "86976abb-6cc1-445e-d5b3-539d977b5c8a"
      },
      "execution_count": 35,
      "outputs": [
        {
          "output_type": "stream",
          "name": "stdout",
          "text": [
            "C\n"
          ]
        }
      ]
    },
    {
      "cell_type": "code",
      "source": [
        "marks=75\n",
        "if marks>=60:\n",
        "    print(\"A\")\n",
        "if marks>=80:\n",
        "    print(\"B\")\n",
        "if marks>=70:\n",
        "    print(\"C\")\n",
        "else:\n",
        "    print(\"D\")"
      ],
      "metadata": {
        "colab": {
          "base_uri": "https://localhost:8080/"
        },
        "id": "g69p8Ld36GCU",
        "outputId": "fed46313-6c53-4ffb-a5d2-1ab2f44e50d9"
      },
      "execution_count": 36,
      "outputs": [
        {
          "output_type": "stream",
          "name": "stdout",
          "text": [
            "A\n",
            "C\n"
          ]
        }
      ]
    },
    {
      "cell_type": "code",
      "source": [
        "\"\"\"math=80\n",
        "science=70\n",
        "english=\n",
        "\n",
        "if marks>=90:\n",
        "    print(\"A\")\n",
        "elif marks>=80:\n",
        "    print(\"B\")\n",
        "elif marks>=70:\n",
        "    print(\"C\")\n",
        "else:\n",
        "    print(\"D\")\"\"\""
      ],
      "metadata": {
        "colab": {
          "base_uri": "https://localhost:8080/",
          "height": 36
        },
        "id": "m02b52mD6IWP",
        "outputId": "77cf77ea-77df-4834-e111-2fd499e52a64"
      },
      "execution_count": 37,
      "outputs": [
        {
          "output_type": "execute_result",
          "data": {
            "text/plain": [
              "'math=80\\nscience=70\\nenglish=\\n\\nif marks>=90:\\n    print(\"A\")\\nelif marks>=80:\\n    print(\"B\")\\nelif marks>=70:\\n    print(\"C\")\\nelse:\\n    print(\"D\")'"
            ],
            "application/vnd.google.colaboratory.intrinsic+json": {
              "type": "string"
            }
          },
          "metadata": {},
          "execution_count": 37
        }
      ]
    },
    {
      "cell_type": "code",
      "source": [
        "if num>0:\n",
        "    print(\"positive\")\n",
        "    if num%2==0:\n",
        "        print(\"even number\")\n",
        "    else:\n",
        "        print(\"odd\")\n",
        "else:\n",
        "    print(\"negative\")\n",
        "print(\"printed anyways\")"
      ],
      "metadata": {
        "colab": {
          "base_uri": "https://localhost:8080/"
        },
        "id": "rrXqSqOc6NPh",
        "outputId": "e98c8f06-e2e8-4d54-f7e5-387dd8a28bb6"
      },
      "execution_count": 38,
      "outputs": [
        {
          "output_type": "stream",
          "name": "stdout",
          "text": [
            "positive\n",
            "odd\n",
            "printed anyways\n"
          ]
        }
      ]
    },
    {
      "cell_type": "code",
      "source": [
        "temp=int(input(\"enter temperature\"))\n",
        "if temp<0:\n",
        "    print(\"freezing\")\n",
        "elif temp<=10:\n",
        "    print(\"cold\")\n",
        "elif temp<=25:\n",
        "    print(\"warm\")\n",
        "else:\n",
        "    print(\"hot\")"
      ],
      "metadata": {
        "colab": {
          "base_uri": "https://localhost:8080/"
        },
        "id": "VnnYEsAI6QS2",
        "outputId": "0bc8fd89-8bdc-45cd-dbf3-3e5a1f61d430"
      },
      "execution_count": 39,
      "outputs": [
        {
          "output_type": "stream",
          "name": "stdout",
          "text": [
            "enter temperature12\n",
            "warm\n"
          ]
        }
      ]
    },
    {
      "cell_type": "code",
      "source": [
        "temp=int(input(\"enter temperature\"))\n",
        "if temp<0:\n",
        "    print(\"freezing\")\n",
        "elif temp<=10:\n",
        "    print(\"cold\")\n",
        "elif temp<=25:\n",
        "    print(\"warm\")\n",
        "else:\n",
        "    print(\"hot\")"
      ],
      "metadata": {
        "colab": {
          "base_uri": "https://localhost:8080/"
        },
        "id": "BLDrp5806X_l",
        "outputId": "cb87274e-1ce0-439c-fd40-3e8cb98585bd"
      },
      "execution_count": 40,
      "outputs": [
        {
          "output_type": "stream",
          "name": "stdout",
          "text": [
            "enter temperature10\n",
            "cold\n"
          ]
        }
      ]
    },
    {
      "cell_type": "code",
      "source": [
        "temp=int(input(\"enter temperature\"))\n",
        "if temp<0:\n",
        "    print(\"freezing\")\n",
        "elif temp<=10:\n",
        "    print(\"cold\")\n",
        "elif temp<=25:\n",
        "    print(\"warm\")\n",
        "else:\n",
        "    print(\"hot\")"
      ],
      "metadata": {
        "colab": {
          "base_uri": "https://localhost:8080/"
        },
        "id": "ZfcxDt8w6bGC",
        "outputId": "deac0d23-4285-447c-aec2-7f79d7954554"
      },
      "execution_count": 42,
      "outputs": [
        {
          "output_type": "stream",
          "name": "stdout",
          "text": [
            "enter temperature0\n",
            "cold\n"
          ]
        }
      ]
    }
  ]
}
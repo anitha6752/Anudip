{
  "nbformat": 4,
  "nbformat_minor": 0,
  "metadata": {
    "colab": {
      "provenance": [],
      "authorship_tag": "ABX9TyM6gh7hrofDaP0pXO6LoyrV",
      "include_colab_link": true
    },
    "kernelspec": {
      "name": "python3",
      "display_name": "Python 3"
    },
    "language_info": {
      "name": "python"
    }
  },
  "cells": [
    {
      "cell_type": "markdown",
      "metadata": {
        "id": "view-in-github",
        "colab_type": "text"
      },
      "source": [
        "<a href=\"https://colab.research.google.com/github/anitha6752/Anudip/blob/main/day9.ipynb\" target=\"_parent\"><img src=\"https://colab.research.google.com/assets/colab-badge.svg\" alt=\"Open In Colab\"/></a>"
      ]
    },
    {
      "cell_type": "code",
      "execution_count": 1,
      "metadata": {
        "colab": {
          "base_uri": "https://localhost:8080/"
        },
        "id": "CB8CNSm3E2az",
        "outputId": "f76e17a0-0a09-46ef-abe0-19f710d42783"
      },
      "outputs": [
        {
          "output_type": "execute_result",
          "data": {
            "text/plain": [
              "('hello', 1)"
            ]
          },
          "metadata": {},
          "execution_count": 1
        }
      ],
      "source": [
        "#tuple\n",
        "#ordered and not be changed\n",
        "t=(\"hello\",1,23,47,67.8,6,(1,2))\n",
        "t[0:2]\n"
      ]
    },
    {
      "cell_type": "code",
      "source": [
        "my_tuple=(1,2,3)\n",
        "my_tuple[2]"
      ],
      "metadata": {
        "colab": {
          "base_uri": "https://localhost:8080/"
        },
        "id": "hZ1sioaNE_I4",
        "outputId": "ebc615bf-eac2-422f-8bc8-11927080038d"
      },
      "execution_count": 2,
      "outputs": [
        {
          "output_type": "execute_result",
          "data": {
            "text/plain": [
              "3"
            ]
          },
          "metadata": {},
          "execution_count": 2
        }
      ]
    },
    {
      "cell_type": "code",
      "source": [
        "#immutable\n",
        "my_tuple=(1,2,3,4)\n",
        "my_tuple[1]=7 # This line causes the error"
      ],
      "metadata": {
        "colab": {
          "base_uri": "https://localhost:8080/",
          "height": 176
        },
        "id": "R9WLKnG3FDWS",
        "outputId": "28c711fe-6e7f-44f9-a667-b8c09e026e18"
      },
      "execution_count": 31,
      "outputs": [
        {
          "output_type": "error",
          "ename": "TypeError",
          "evalue": "'tuple' object does not support item assignment",
          "traceback": [
            "\u001b[0;31m---------------------------------------------------------------------------\u001b[0m",
            "\u001b[0;31mTypeError\u001b[0m                                 Traceback (most recent call last)",
            "\u001b[0;32m<ipython-input-31-b8cd295188f8>\u001b[0m in \u001b[0;36m<cell line: 0>\u001b[0;34m()\u001b[0m\n\u001b[1;32m      1\u001b[0m \u001b[0;31m#immutable\u001b[0m\u001b[0;34m\u001b[0m\u001b[0;34m\u001b[0m\u001b[0m\n\u001b[1;32m      2\u001b[0m \u001b[0mmy_tuple\u001b[0m\u001b[0;34m=\u001b[0m\u001b[0;34m(\u001b[0m\u001b[0;36m1\u001b[0m\u001b[0;34m,\u001b[0m\u001b[0;36m2\u001b[0m\u001b[0;34m,\u001b[0m\u001b[0;36m3\u001b[0m\u001b[0;34m,\u001b[0m\u001b[0;36m4\u001b[0m\u001b[0;34m)\u001b[0m\u001b[0;34m\u001b[0m\u001b[0;34m\u001b[0m\u001b[0m\n\u001b[0;32m----> 3\u001b[0;31m \u001b[0mmy_tuple\u001b[0m\u001b[0;34m[\u001b[0m\u001b[0;36m1\u001b[0m\u001b[0;34m]\u001b[0m\u001b[0;34m=\u001b[0m\u001b[0;36m7\u001b[0m \u001b[0;31m# This line causes the error\u001b[0m\u001b[0;34m\u001b[0m\u001b[0;34m\u001b[0m\u001b[0m\n\u001b[0m",
            "\u001b[0;31mTypeError\u001b[0m: 'tuple' object does not support item assignment"
          ]
        }
      ]
    },
    {
      "cell_type": "code",
      "source": [
        "#heterogeneous\n",
        "my_tuple=(1,2,45.56,\"hello\",(6,3))\n",
        "my_tuple"
      ],
      "metadata": {
        "colab": {
          "base_uri": "https://localhost:8080/"
        },
        "id": "MnRM5HSiFG-f",
        "outputId": "5d42c706-3d80-43b1-e390-f85b78d5eb90"
      },
      "execution_count": 4,
      "outputs": [
        {
          "output_type": "execute_result",
          "data": {
            "text/plain": [
              "(1, 2, 45.56, 'hello', (6, 3))"
            ]
          },
          "metadata": {},
          "execution_count": 4
        }
      ]
    },
    {
      "cell_type": "code",
      "source": [
        "#indexing and slicing\n",
        "my_value=(12,56,35,97,8,6)\n",
        "print(my_value[2])\n",
        "print(my_value[1:4])\n"
      ],
      "metadata": {
        "colab": {
          "base_uri": "https://localhost:8080/"
        },
        "id": "J1YiLy6gFKkH",
        "outputId": "74fd2a54-5288-46e6-f7a2-230ed9400c0a"
      },
      "execution_count": 5,
      "outputs": [
        {
          "output_type": "stream",
          "name": "stdout",
          "text": [
            "35\n",
            "(56, 35, 97)\n"
          ]
        }
      ]
    },
    {
      "cell_type": "code",
      "source": [
        "#packing and unpacking\n",
        "my_tuple=1,2,3\n",
        "print(my_tuple)\n"
      ],
      "metadata": {
        "colab": {
          "base_uri": "https://localhost:8080/"
        },
        "id": "hVe7Fo0LFOYG",
        "outputId": "021814e6-5637-410c-f678-f5c8b6901fc2"
      },
      "execution_count": 6,
      "outputs": [
        {
          "output_type": "stream",
          "name": "stdout",
          "text": [
            "(1, 2, 3)\n"
          ]
        }
      ]
    },
    {
      "cell_type": "code",
      "source": [
        "a,b,c=my_tuple\n",
        "a,b,c=my_tuple\n",
        "print(a)\n",
        "print(b)\n",
        "print(c)\n"
      ],
      "metadata": {
        "colab": {
          "base_uri": "https://localhost:8080/"
        },
        "id": "u7zT_UAEFYHD",
        "outputId": "d6a1d19e-8a91-4c74-f267-e2815576d17f"
      },
      "execution_count": 7,
      "outputs": [
        {
          "output_type": "stream",
          "name": "stdout",
          "text": [
            "1\n",
            "2\n",
            "3\n"
          ]
        }
      ]
    },
    {
      "cell_type": "code",
      "source": [
        "person=(\"john\",24,\"engineer\")\n",
        "print(person)"
      ],
      "metadata": {
        "colab": {
          "base_uri": "https://localhost:8080/"
        },
        "id": "eB4aFBw4Fc_S",
        "outputId": "6227c0e9-85d6-4e43-9733-02b3bef59b4d"
      },
      "execution_count": 8,
      "outputs": [
        {
          "output_type": "stream",
          "name": "stdout",
          "text": [
            "('john', 24, 'engineer')\n"
          ]
        }
      ]
    },
    {
      "cell_type": "code",
      "source": [
        "\n",
        "coordinates=(10,20,30)\n",
        "x=coordinates[0]\n",
        "y=coordinates[1]\n",
        "z=coordinates[2]\n",
        "print(x,y,z)\n"
      ],
      "metadata": {
        "colab": {
          "base_uri": "https://localhost:8080/"
        },
        "id": "eUeSZWSSFgke",
        "outputId": "5e9017f3-9416-49c2-cf0d-34cf1003e8b6"
      },
      "execution_count": 9,
      "outputs": [
        {
          "output_type": "stream",
          "name": "stdout",
          "text": [
            "10 20 30\n"
          ]
        }
      ]
    },
    {
      "cell_type": "code",
      "source": [
        "nested_tuple=(1,(2,3),(4,(5,6)))\n",
        "nested_tuple[1][0]"
      ],
      "metadata": {
        "colab": {
          "base_uri": "https://localhost:8080/"
        },
        "id": "WyGv46kEFt23",
        "outputId": "de6b901a-f24f-48a9-db86-fc32778bfae2"
      },
      "execution_count": 10,
      "outputs": [
        {
          "output_type": "execute_result",
          "data": {
            "text/plain": [
              "2"
            ]
          },
          "metadata": {},
          "execution_count": 10
        }
      ]
    },
    {
      "cell_type": "code",
      "source": [
        "nested_tuple[2][0]"
      ],
      "metadata": {
        "colab": {
          "base_uri": "https://localhost:8080/"
        },
        "id": "9GJDfYajFw1K",
        "outputId": "d9debf8d-034f-47a8-82bf-ced75289e975"
      },
      "execution_count": 11,
      "outputs": [
        {
          "output_type": "execute_result",
          "data": {
            "text/plain": [
              "4"
            ]
          },
          "metadata": {},
          "execution_count": 11
        }
      ]
    },
    {
      "cell_type": "code",
      "source": [
        "my_tuple=('apple','banana','cherry','grapes','mango')\n",
        "slice_1=my_tuple[1:3]\n",
        "slice_2=my_tuple[:4]\n",
        "slice_3=my_tuple[2:]\n",
        "slice_4=my_tuple[:-3]\n",
        "print(slice_1)\n",
        "print(slice_2)\n",
        "print(slice_3)\n",
        "print(slice_4)"
      ],
      "metadata": {
        "colab": {
          "base_uri": "https://localhost:8080/"
        },
        "id": "nbtC839mFzj8",
        "outputId": "013c2190-d517-448e-af5d-b66d0803e0bb"
      },
      "execution_count": 12,
      "outputs": [
        {
          "output_type": "stream",
          "name": "stdout",
          "text": [
            "('banana', 'cherry')\n",
            "('apple', 'banana', 'cherry', 'grapes')\n",
            "('cherry', 'grapes', 'mango')\n",
            "('apple', 'banana')\n"
          ]
        }
      ]
    },
    {
      "cell_type": "code",
      "source": [
        "my_fruits=('apple','bana','cherry','grapes','mango')\n",
        "my_fruits[2]"
      ],
      "metadata": {
        "colab": {
          "base_uri": "https://localhost:8080/",
          "height": 36
        },
        "id": "qw1aKxY7F2Qy",
        "outputId": "4545d06b-e99c-4fb5-b3b2-190c45b50cda"
      },
      "execution_count": 13,
      "outputs": [
        {
          "output_type": "execute_result",
          "data": {
            "text/plain": [
              "'cherry'"
            ],
            "application/vnd.google.colaboratory.intrinsic+json": {
              "type": "string"
            }
          },
          "metadata": {},
          "execution_count": 13
        }
      ]
    },
    {
      "cell_type": "code",
      "source": [
        "\n",
        "colors=('red','blue','black','green','yellow')\n",
        "print(colors[-1])\n",
        "print(colors[-3])"
      ],
      "metadata": {
        "colab": {
          "base_uri": "https://localhost:8080/"
        },
        "id": "c85DcyV7F5Fy",
        "outputId": "33523ef4-437a-49cf-de89-acf6da970fe4"
      },
      "execution_count": 14,
      "outputs": [
        {
          "output_type": "stream",
          "name": "stdout",
          "text": [
            "yellow\n",
            "black\n"
          ]
        }
      ]
    },
    {
      "cell_type": "code",
      "source": [
        "nested_tuple=(1,(2,3),(4,(5,6),7,8))\n",
        "nested_tuple[2][1][0]\n"
      ],
      "metadata": {
        "colab": {
          "base_uri": "https://localhost:8080/"
        },
        "id": "lheeAx6mGA17",
        "outputId": "c8d8a289-acec-4147-e480-c6f5eacf7c71"
      },
      "execution_count": 15,
      "outputs": [
        {
          "output_type": "execute_result",
          "data": {
            "text/plain": [
              "5"
            ]
          },
          "metadata": {},
          "execution_count": 15
        }
      ]
    },
    {
      "cell_type": "code",
      "source": [
        "values=('apple','banana','grapes')\n",
        "type(values)\n",
        "a=list(values)\n",
        "a"
      ],
      "metadata": {
        "colab": {
          "base_uri": "https://localhost:8080/"
        },
        "id": "ziJA69jPGD38",
        "outputId": "9af37839-74a0-4d30-f33b-07b1d68b8b52"
      },
      "execution_count": 16,
      "outputs": [
        {
          "output_type": "execute_result",
          "data": {
            "text/plain": [
              "['apple', 'banana', 'grapes']"
            ]
          },
          "metadata": {},
          "execution_count": 16
        }
      ]
    },
    {
      "cell_type": "code",
      "source": [
        "a.append('goa')\n",
        "a"
      ],
      "metadata": {
        "colab": {
          "base_uri": "https://localhost:8080/"
        },
        "id": "4jhnxsNWGH8d",
        "outputId": "c86f54f4-367e-4c96-ebb8-a2da0cf934d7"
      },
      "execution_count": 17,
      "outputs": [
        {
          "output_type": "execute_result",
          "data": {
            "text/plain": [
              "['apple', 'banana', 'grapes', 'goa']"
            ]
          },
          "metadata": {},
          "execution_count": 17
        }
      ]
    },
    {
      "cell_type": "code",
      "source": [
        "b=tuple(a)\n",
        "b"
      ],
      "metadata": {
        "colab": {
          "base_uri": "https://localhost:8080/"
        },
        "id": "_wSiIerLGOZu",
        "outputId": "aae7ccea-5a70-4f9d-e700-fbb03e0b5b09"
      },
      "execution_count": 18,
      "outputs": [
        {
          "output_type": "execute_result",
          "data": {
            "text/plain": [
              "('apple', 'banana', 'grapes', 'goa')"
            ]
          },
          "metadata": {},
          "execution_count": 18
        }
      ]
    },
    {
      "cell_type": "code",
      "source": [
        "fruits=('apple','banana','cherry')\n",
        "fruits_new=fruits[:1] + ('goa',) + fruits[2:]\n",
        "print(fruits_new)"
      ],
      "metadata": {
        "colab": {
          "base_uri": "https://localhost:8080/"
        },
        "id": "8GefxkGeGQVt",
        "outputId": "d4dd58c6-c631-4ae9-f921-5e4cecd5bd9c"
      },
      "execution_count": 19,
      "outputs": [
        {
          "output_type": "stream",
          "name": "stdout",
          "text": [
            "('apple', 'goa', 'cherry')\n"
          ]
        }
      ]
    },
    {
      "cell_type": "code",
      "source": [
        "fru=('apple','banana','cherry')\n",
        "fru1=fru+('date',)\n",
        "print(fru1)\n",
        "('apple', 'banana')"
      ],
      "metadata": {
        "colab": {
          "base_uri": "https://localhost:8080/"
        },
        "id": "nng7HOPnGTjE",
        "outputId": "42260aae-1e03-4ba0-8322-06c41126f366"
      },
      "execution_count": 21,
      "outputs": [
        {
          "output_type": "stream",
          "name": "stdout",
          "text": [
            "('apple', 'banana', 'cherry', 'date')\n"
          ]
        },
        {
          "output_type": "execute_result",
          "data": {
            "text/plain": [
              "('apple', 'banana')"
            ]
          },
          "metadata": {},
          "execution_count": 21
        }
      ]
    },
    {
      "cell_type": "code",
      "source": [
        "my_value=('a','b','c','d','e')\n",
        "my_value.index('c')\n"
      ],
      "metadata": {
        "colab": {
          "base_uri": "https://localhost:8080/"
        },
        "id": "ZaFzAsshGY_y",
        "outputId": "17e43e05-d25c-4b35-f3e2-91009909f92f"
      },
      "execution_count": 22,
      "outputs": [
        {
          "output_type": "execute_result",
          "data": {
            "text/plain": [
              "2"
            ]
          },
          "metadata": {},
          "execution_count": 22
        }
      ]
    },
    {
      "cell_type": "code",
      "source": [
        "len(my_value)"
      ],
      "metadata": {
        "colab": {
          "base_uri": "https://localhost:8080/"
        },
        "id": "2L_litGCGht3",
        "outputId": "8da8fc9b-b154-4687-bb9c-50ad387f70e0"
      },
      "execution_count": 23,
      "outputs": [
        {
          "output_type": "execute_result",
          "data": {
            "text/plain": [
              "5"
            ]
          },
          "metadata": {},
          "execution_count": 23
        }
      ]
    },
    {
      "cell_type": "code",
      "source": [
        "t=(5,67,8,5,56,77,9,49,2)\n",
        "max(t)\n"
      ],
      "metadata": {
        "colab": {
          "base_uri": "https://localhost:8080/"
        },
        "id": "v0XVsjZJGpK_",
        "outputId": "5a9327c4-001b-4912-d468-0f501d0ab70d"
      },
      "execution_count": 24,
      "outputs": [
        {
          "output_type": "execute_result",
          "data": {
            "text/plain": [
              "77"
            ]
          },
          "metadata": {},
          "execution_count": 24
        }
      ]
    },
    {
      "cell_type": "code",
      "source": [
        "min(t)\n"
      ],
      "metadata": {
        "colab": {
          "base_uri": "https://localhost:8080/"
        },
        "id": "92Z1sJOWGq6v",
        "outputId": "be6be18d-0a9f-4b81-90b3-74e878b602a2"
      },
      "execution_count": 25,
      "outputs": [
        {
          "output_type": "execute_result",
          "data": {
            "text/plain": [
              "2"
            ]
          },
          "metadata": {},
          "execution_count": 25
        }
      ]
    },
    {
      "cell_type": "code",
      "source": [
        "sum(t)"
      ],
      "metadata": {
        "colab": {
          "base_uri": "https://localhost:8080/"
        },
        "id": "8y3F4VV4GuBM",
        "outputId": "c2bf268a-d2ba-430d-aca7-de1a274437de"
      },
      "execution_count": 26,
      "outputs": [
        {
          "output_type": "execute_result",
          "data": {
            "text/plain": [
              "278"
            ]
          },
          "metadata": {},
          "execution_count": 26
        }
      ]
    },
    {
      "cell_type": "code",
      "source": [
        "sorted(t)"
      ],
      "metadata": {
        "colab": {
          "base_uri": "https://localhost:8080/"
        },
        "id": "FWzTTqF5Gynb",
        "outputId": "a7a4dd45-a7a7-40c3-aeba-f680b3c4724c"
      },
      "execution_count": 27,
      "outputs": [
        {
          "output_type": "execute_result",
          "data": {
            "text/plain": [
              "[2, 5, 5, 8, 9, 49, 56, 67, 77]"
            ]
          },
          "metadata": {},
          "execution_count": 27
        }
      ]
    },
    {
      "cell_type": "code",
      "source": [
        "scores=(88,76,92,85,79)\n",
        "print(max(scores))\n",
        "print(min(scores))"
      ],
      "metadata": {
        "colab": {
          "base_uri": "https://localhost:8080/"
        },
        "id": "c5Fb6PInGz3l",
        "outputId": "69cef28d-fb30-4e87-b9fc-5c85af8bf0ea"
      },
      "execution_count": 28,
      "outputs": [
        {
          "output_type": "stream",
          "name": "stdout",
          "text": [
            "92\n",
            "76\n"
          ]
        }
      ]
    },
    {
      "cell_type": "code",
      "source": [
        "cities=('new york','los angeles','paris','london','tokyo')\n",
        "'paris' in cities"
      ],
      "metadata": {
        "colab": {
          "base_uri": "https://localhost:8080/"
        },
        "id": "2Al8qbq-G5W8",
        "outputId": "16fbe456-6f17-4773-9ecb-02d4abf61ae3"
      },
      "execution_count": 29,
      "outputs": [
        {
          "output_type": "execute_result",
          "data": {
            "text/plain": [
              "True"
            ]
          },
          "metadata": {},
          "execution_count": 29
        }
      ]
    },
    {
      "cell_type": "code",
      "source": [
        "length=2\n",
        "width=4\n",
        "height=2\n",
        "volume=length*width*height\n",
        "print(volume)\n"
      ],
      "metadata": {
        "colab": {
          "base_uri": "https://localhost:8080/"
        },
        "id": "xyJ50Av-G9AT",
        "outputId": "2499c76b-9c40-4f93-d4a9-5c89d7dd8687"
      },
      "execution_count": 30,
      "outputs": [
        {
          "output_type": "stream",
          "name": "stdout",
          "text": [
            "16\n"
          ]
        }
      ]
    }
  ]
}
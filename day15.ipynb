{
  "nbformat": 4,
  "nbformat_minor": 0,
  "metadata": {
    "colab": {
      "provenance": [],
      "authorship_tag": "ABX9TyPHVYaatkWHPtPQRx/zsPuA",
      "include_colab_link": true
    },
    "kernelspec": {
      "name": "python3",
      "display_name": "Python 3"
    },
    "language_info": {
      "name": "python"
    }
  },
  "cells": [
    {
      "cell_type": "markdown",
      "metadata": {
        "id": "view-in-github",
        "colab_type": "text"
      },
      "source": [
        "<a href=\"https://colab.research.google.com/github/anitha6752/Anudip/blob/main/day15.ipynb\" target=\"_parent\"><img src=\"https://colab.research.google.com/assets/colab-badge.svg\" alt=\"Open In Colab\"/></a>"
      ]
    },
    {
      "cell_type": "code",
      "execution_count": 1,
      "metadata": {
        "id": "GzzTiOm9xGSb"
      },
      "outputs": [],
      "source": [
        "class Mylist:\n",
        "    def __init__(self):\n",
        "       self.item =[]\n",
        "\n",
        "    def append(self,items):\n",
        "        \"\"\" Method to add an items to the list \"\"\"\n",
        "        self.items.append(items)\n",
        "\n",
        "    def remove(self,items):\n",
        "        \"\"\" Method to remove an item from the list \"\"\"\n",
        "        if item in self.items:\n",
        "            self.items.remove(item)\n",
        "        else:\n",
        "            print(f\" {item} not found in the list!\")\n",
        "    def display(self):\n",
        "        \"\"\" Method to display the current list\"\"\"\n",
        "        print(self.items)\n",
        "    def size(self):\n",
        "        \"\"\" Method to return the size of the list\"\"\"\n",
        "        return len(self.items)\n",
        ""
      ]
    },
    {
      "cell_type": "code",
      "source": [
        "try:\n",
        "    x=int(input(\"enter a number: \"))\n",
        "    result=10/x\n",
        "    print(\"Result is\", result)\n",
        "except ValueError:\n",
        "    print(\"that was not a number\")\n",
        "except ZeroDevisionError:\n",
        "    print(\"you cannot divide by zero\")\n",
        ""
      ],
      "metadata": {
        "colab": {
          "base_uri": "https://localhost:8080/"
        },
        "id": "Pax83qskxNix",
        "outputId": "6b3fa256-deec-4e04-ae08-6bc628a5118a"
      },
      "execution_count": 3,
      "outputs": [
        {
          "output_type": "stream",
          "name": "stdout",
          "text": [
            "enter a number: 7\n",
            "Result is 1.4285714285714286\n"
          ]
        }
      ]
    },
    {
      "cell_type": "code",
      "source": [
        "try:\n",
        "    value = int(input(\"enter a number: \"))\n",
        "    print(\"you entered:\",value)\n",
        "except ValueError:\n",
        "    print(\"Oops! that was not a valid number\")"
      ],
      "metadata": {
        "colab": {
          "base_uri": "https://localhost:8080/"
        },
        "id": "iEDoXdd2xeJL",
        "outputId": "6302f1eb-baec-40f6-fb27-53180e085dda"
      },
      "execution_count": 4,
      "outputs": [
        {
          "output_type": "stream",
          "name": "stdout",
          "text": [
            "enter a number: 8\n",
            "you entered: 8\n"
          ]
        }
      ]
    },
    {
      "cell_type": "code",
      "source": [
        "try:\n",
        "    x=8\n",
        "    y=2\n",
        "    result=x/y\n",
        "except ZeroDevisionError:\n",
        "    print(\"cannot divide by zero!\")\n",
        "else:\n",
        "    print(\"result is:\", result)\n",
        "finally:\n",
        "    print(\"this block runs no matter what\")"
      ],
      "metadata": {
        "colab": {
          "base_uri": "https://localhost:8080/"
        },
        "id": "hirS92VbxmFQ",
        "outputId": "ed9f0083-6bda-493f-cc54-0ccebbbbd91d"
      },
      "execution_count": 5,
      "outputs": [
        {
          "output_type": "stream",
          "name": "stdout",
          "text": [
            "result is: 4.0\n",
            "this block runs no matter what\n"
          ]
        }
      ]
    },
    {
      "cell_type": "code",
      "source": [
        "class NegativeAgeError(Exception):\n",
        "    \"\"\"Raised when the age is negative\"\"\"\n",
        "    pass\n",
        "def validate_age(age):\n",
        "    if age<0:\n",
        "        raise NegativeAgeError(\"age cannot be negative!\")\n",
        "    else:\n",
        "        print(\"Valid age:\", age)\n",
        "\n",
        "try:\n",
        "    validate_age(-7)\n",
        "except NegativeAgeError as e:\n",
        "    print(\"Custom Exception Caught:\",e)"
      ],
      "metadata": {
        "colab": {
          "base_uri": "https://localhost:8080/"
        },
        "id": "iLMqQgNqxoxi",
        "outputId": "682afdc9-c59c-4fb2-977e-02a6e487f3eb"
      },
      "execution_count": 6,
      "outputs": [
        {
          "output_type": "stream",
          "name": "stdout",
          "text": [
            "Custom Exception Caught: age cannot be negative!\n"
          ]
        }
      ]
    },
    {
      "cell_type": "code",
      "source": [
        "try:\n",
        "    value = int(input(\"enter a number: \"))\n",
        "    print(\"you entered:\",value)\n",
        "except ValueError:\n",
        "    print(\"Oops! that was not a valid number\")"
      ],
      "metadata": {
        "colab": {
          "base_uri": "https://localhost:8080/"
        },
        "id": "EIpgnXzXxtFG",
        "outputId": "644df279-da4a-4487-d315-8c9e4836ce98"
      },
      "execution_count": 7,
      "outputs": [
        {
          "output_type": "stream",
          "name": "stdout",
          "text": [
            "enter a number: 7\n",
            "you entered: 7\n"
          ]
        }
      ]
    }
  ]
}
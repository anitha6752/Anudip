{
  "nbformat": 4,
  "nbformat_minor": 0,
  "metadata": {
    "colab": {
      "provenance": [],
      "authorship_tag": "ABX9TyPk1ueYJqcVje6cRFhskqek",
      "include_colab_link": true
    },
    "kernelspec": {
      "name": "python3",
      "display_name": "Python 3"
    },
    "language_info": {
      "name": "python"
    }
  },
  "cells": [
    {
      "cell_type": "markdown",
      "metadata": {
        "id": "view-in-github",
        "colab_type": "text"
      },
      "source": [
        "<a href=\"https://colab.research.google.com/github/anitha6752/Anudip/blob/main/day6.ipynb\" target=\"_parent\"><img src=\"https://colab.research.google.com/assets/colab-badge.svg\" alt=\"Open In Colab\"/></a>"
      ]
    },
    {
      "cell_type": "code",
      "execution_count": 1,
      "metadata": {
        "colab": {
          "base_uri": "https://localhost:8080/"
        },
        "id": "w1bCVPCR9NHA",
        "outputId": "078bc685-c085-4669-f95e-7c83c572617f"
      },
      "outputs": [
        {
          "output_type": "stream",
          "name": "stdout",
          "text": [
            "1\n",
            "2\n",
            "3\n",
            "4\n",
            "6\n",
            "7\n",
            "8\n",
            "9\n",
            "10\n"
          ]
        }
      ],
      "source": [
        "i=[1,2,3,4,5,6,7,8,9,10]\n",
        "for n in i:\n",
        "    if n==5:\n",
        "        continue\n",
        "    print(n)"
      ]
    },
    {
      "cell_type": "code",
      "source": [
        "for i in range(10,51):\n",
        "    if i%2==0:\n",
        "        print(\"not a prime number\",i)\n",
        "    else:\n",
        "        print(\"print number\",i)"
      ],
      "metadata": {
        "colab": {
          "base_uri": "https://localhost:8080/"
        },
        "id": "QmGTVZSE9a8A",
        "outputId": "803b7ff9-0b83-4629-f866-d7e95c0edb65"
      },
      "execution_count": 2,
      "outputs": [
        {
          "output_type": "stream",
          "name": "stdout",
          "text": [
            "not a prime number 10\n",
            "print number 11\n",
            "not a prime number 12\n",
            "print number 13\n",
            "not a prime number 14\n",
            "print number 15\n",
            "not a prime number 16\n",
            "print number 17\n",
            "not a prime number 18\n",
            "print number 19\n",
            "not a prime number 20\n",
            "print number 21\n",
            "not a prime number 22\n",
            "print number 23\n",
            "not a prime number 24\n",
            "print number 25\n",
            "not a prime number 26\n",
            "print number 27\n",
            "not a prime number 28\n",
            "print number 29\n",
            "not a prime number 30\n",
            "print number 31\n",
            "not a prime number 32\n",
            "print number 33\n",
            "not a prime number 34\n",
            "print number 35\n",
            "not a prime number 36\n",
            "print number 37\n",
            "not a prime number 38\n",
            "print number 39\n",
            "not a prime number 40\n",
            "print number 41\n",
            "not a prime number 42\n",
            "print number 43\n",
            "not a prime number 44\n",
            "print number 45\n",
            "not a prime number 46\n",
            "print number 47\n",
            "not a prime number 48\n",
            "print number 49\n",
            "not a prime number 50\n"
          ]
        }
      ]
    },
    {
      "cell_type": "code",
      "source": [
        "list = [12,14,15,16,17,18,19,20]\n",
        "for i in list:\n",
        " if i%2==0 & i<10:\n",
        "     print(f'{i} is even and greater than 10')\n",
        "list = [12,14,15,16,17,18,19,20]\n",
        "for i in list:\n",
        " if i%2==0 & i<10:\n",
        "     print(f'{i} is even and greater than 10')"
      ],
      "metadata": {
        "colab": {
          "base_uri": "https://localhost:8080/"
        },
        "id": "jRMPkLBv9c_D",
        "outputId": "2627ed94-7d86-48d6-ba97-3540311c429e"
      },
      "execution_count": 3,
      "outputs": [
        {
          "output_type": "stream",
          "name": "stdout",
          "text": [
            "12 is even and greater than 10\n",
            "14 is even and greater than 10\n",
            "16 is even and greater than 10\n",
            "18 is even and greater than 10\n",
            "20 is even and greater than 10\n",
            "12 is even and greater than 10\n",
            "14 is even and greater than 10\n",
            "16 is even and greater than 10\n",
            "18 is even and greater than 10\n",
            "20 is even and greater than 10\n"
          ]
        }
      ]
    },
    {
      "cell_type": "code",
      "source": [],
      "metadata": {
        "id": "BCVfUF1S9lP9"
      },
      "execution_count": null,
      "outputs": []
    },
    {
      "cell_type": "code",
      "source": [],
      "metadata": {
        "id": "r0rob7_a9g6v"
      },
      "execution_count": null,
      "outputs": []
    }
  ]
}
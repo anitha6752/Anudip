{
  "nbformat": 4,
  "nbformat_minor": 0,
  "metadata": {
    "colab": {
      "provenance": [],
      "authorship_tag": "ABX9TyOMqrNkckOnmNO9SE6mNFJj",
      "include_colab_link": true
    },
    "kernelspec": {
      "name": "python3",
      "display_name": "Python 3"
    },
    "language_info": {
      "name": "python"
    }
  },
  "cells": [
    {
      "cell_type": "markdown",
      "metadata": {
        "id": "view-in-github",
        "colab_type": "text"
      },
      "source": [
        "<a href=\"https://colab.research.google.com/github/anitha6752/Anudip/blob/main/5.ipynb\" target=\"_parent\"><img src=\"https://colab.research.google.com/assets/colab-badge.svg\" alt=\"Open In Colab\"/></a>"
      ]
    },
    {
      "cell_type": "code",
      "execution_count": 1,
      "metadata": {
        "colab": {
          "base_uri": "https://localhost:8080/"
        },
        "id": "UjyzGVNZ7MgF",
        "outputId": "623a22c1-4406-40e0-d170-17e9bbc56fdf"
      },
      "outputs": [
        {
          "output_type": "stream",
          "name": "stdout",
          "text": [
            "6\n",
            "Weak Password\n"
          ]
        }
      ],
      "source": [
        "password=input()\n",
        "if len(password) < 6:\n",
        "    print(\"Weak Password\")\n",
        "elif 6 <= len(password) <= 8:\n",
        "    print(\"Moderate Password\")\n",
        "else:\n",
        "    print(\"Strong Password\")"
      ]
    },
    {
      "cell_type": "code",
      "source": [
        "#for loop\n",
        "a=[1,2,3,4,5,6,7]\n",
        "for i in a:\n",
        "    print(i)"
      ],
      "metadata": {
        "colab": {
          "base_uri": "https://localhost:8080/"
        },
        "id": "zslvt3JM7Url",
        "outputId": "2985e21e-939e-4d8e-bfd0-8db1ee515146"
      },
      "execution_count": 2,
      "outputs": [
        {
          "output_type": "stream",
          "name": "stdout",
          "text": [
            "1\n",
            "2\n",
            "3\n",
            "4\n",
            "5\n",
            "6\n",
            "7\n"
          ]
        }
      ]
    },
    {
      "cell_type": "code",
      "source": [
        "fruits=['apple','banana','cherry']\n",
        "for fruits in fruits:\n",
        "    print(fruits)"
      ],
      "metadata": {
        "colab": {
          "base_uri": "https://localhost:8080/"
        },
        "id": "odQmsZQA7WEB",
        "outputId": "0b6b2d8c-f4be-4048-a01a-a55aa725deb0"
      },
      "execution_count": 3,
      "outputs": [
        {
          "output_type": "stream",
          "name": "stdout",
          "text": [
            "apple\n",
            "banana\n",
            "cherry\n"
          ]
        }
      ]
    },
    {
      "cell_type": "code",
      "source": [
        "fruits=['apple','banana','cherry']\n",
        "for fruits in fruits:\n",
        "    print(fruits)"
      ],
      "metadata": {
        "colab": {
          "base_uri": "https://localhost:8080/"
        },
        "id": "Upfgv15z7ZyW",
        "outputId": "66f8aa77-ccfe-4f27-f254-9fc8ad715ac1"
      },
      "execution_count": 4,
      "outputs": [
        {
          "output_type": "stream",
          "name": "stdout",
          "text": [
            "apple\n",
            "banana\n",
            "cherry\n"
          ]
        }
      ]
    },
    {
      "cell_type": "code",
      "source": [
        "for i in range(1,10,3):\n",
        "    print(i)"
      ],
      "metadata": {
        "colab": {
          "base_uri": "https://localhost:8080/"
        },
        "id": "BlIFIsJs7cn2",
        "outputId": "a0b5cb4c-4f38-4478-80e7-d71235c6f3f8"
      },
      "execution_count": 5,
      "outputs": [
        {
          "output_type": "stream",
          "name": "stdout",
          "text": [
            "1\n",
            "4\n",
            "7\n"
          ]
        }
      ]
    },
    {
      "cell_type": "code",
      "source": [
        "word=\"hello\"\n",
        "for i in word:\n",
        "    print(i)\n"
      ],
      "metadata": {
        "colab": {
          "base_uri": "https://localhost:8080/"
        },
        "id": "n_MOeOIL7iz0",
        "outputId": "be268c1c-cfe9-4ba0-aef8-ebfa73dbe126"
      },
      "execution_count": 7,
      "outputs": [
        {
          "output_type": "stream",
          "name": "stdout",
          "text": [
            "h\n",
            "e\n",
            "l\n",
            "l\n",
            "o\n"
          ]
        }
      ]
    },
    {
      "cell_type": "code",
      "source": [
        "#looping with else\n",
        "for i in a:\n",
        "    print(i)\n",
        "else:print(\"loop is finished\")"
      ],
      "metadata": {
        "colab": {
          "base_uri": "https://localhost:8080/"
        },
        "id": "8nddxx7e7ncC",
        "outputId": "a949cd82-4479-4fcf-b726-3e66e4a02583"
      },
      "execution_count": 8,
      "outputs": [
        {
          "output_type": "stream",
          "name": "stdout",
          "text": [
            "1\n",
            "2\n",
            "3\n",
            "4\n",
            "5\n",
            "6\n",
            "7\n",
            "loop is finished\n"
          ]
        }
      ]
    },
    {
      "cell_type": "code",
      "source": [
        "for i in range(3):\n",
        "    for j in range(2):\n",
        "        print(f\"i={i},j={j}\")"
      ],
      "metadata": {
        "colab": {
          "base_uri": "https://localhost:8080/"
        },
        "id": "ml-ZWb5Z7pWM",
        "outputId": "b5e52614-7f30-48b0-aaf2-d9b4f52aca80"
      },
      "execution_count": 9,
      "outputs": [
        {
          "output_type": "stream",
          "name": "stdout",
          "text": [
            "i=0,j=0\n",
            "i=0,j=1\n",
            "i=1,j=0\n",
            "i=1,j=1\n",
            "i=2,j=0\n",
            "i=2,j=1\n"
          ]
        }
      ]
    },
    {
      "cell_type": "code",
      "source": [
        "for i in range(3):\n",
        "    for j in range(2):\n",
        "        print(i,j)"
      ],
      "metadata": {
        "colab": {
          "base_uri": "https://localhost:8080/"
        },
        "id": "jobl7M8w7txj",
        "outputId": "fc5cfcd9-9ae3-4c88-b1ae-ed19b3257917"
      },
      "execution_count": 10,
      "outputs": [
        {
          "output_type": "stream",
          "name": "stdout",
          "text": [
            "0 0\n",
            "0 1\n",
            "1 0\n",
            "1 1\n",
            "2 0\n",
            "2 1\n"
          ]
        }
      ]
    },
    {
      "cell_type": "code",
      "source": [
        "name='krishna'\n",
        "print(f'my name is {name}')"
      ],
      "metadata": {
        "colab": {
          "base_uri": "https://localhost:8080/"
        },
        "id": "aflN2K077zmb",
        "outputId": "060219d9-6e43-47c6-a65e-5b146bdcb55a"
      },
      "execution_count": 11,
      "outputs": [
        {
          "output_type": "stream",
          "name": "stdout",
          "text": [
            "my name is krishna\n"
          ]
        }
      ]
    },
    {
      "cell_type": "code",
      "source": [
        "for i in range(4):\n",
        "    print(\"outer\")\n",
        "    for j in range(2):\n",
        "        print(\"inner loop\")"
      ],
      "metadata": {
        "colab": {
          "base_uri": "https://localhost:8080/"
        },
        "id": "WV0bBpgj73E6",
        "outputId": "d0002230-e832-493d-c7ae-5e311311e5ba"
      },
      "execution_count": 12,
      "outputs": [
        {
          "output_type": "stream",
          "name": "stdout",
          "text": [
            "outer\n",
            "inner loop\n",
            "inner loop\n",
            "outer\n",
            "inner loop\n",
            "inner loop\n",
            "outer\n",
            "inner loop\n",
            "inner loop\n",
            "outer\n",
            "inner loop\n",
            "inner loop\n"
          ]
        }
      ]
    },
    {
      "cell_type": "code",
      "source": [
        "for i in range(3):\n",
        "    print(i)\n",
        "    print(\"This is will be 1st\")\n",
        "    print(\"second\")\n",
        "    print(\"third\")"
      ],
      "metadata": {
        "colab": {
          "base_uri": "https://localhost:8080/"
        },
        "id": "CgJNjSW977I0",
        "outputId": "9f3c2806-af27-4f5a-b78a-4d6bf8eeec49"
      },
      "execution_count": 13,
      "outputs": [
        {
          "output_type": "stream",
          "name": "stdout",
          "text": [
            "0\n",
            "This is will be 1st\n",
            "second\n",
            "third\n",
            "1\n",
            "This is will be 1st\n",
            "second\n",
            "third\n",
            "2\n",
            "This is will be 1st\n",
            "second\n",
            "third\n"
          ]
        }
      ]
    },
    {
      "cell_type": "code",
      "source": [
        "for i in range(1,10,3):\n",
        "    print(i)"
      ],
      "metadata": {
        "colab": {
          "base_uri": "https://localhost:8080/"
        },
        "id": "8xDsn9XI7_8O",
        "outputId": "9eb7add2-9e76-4b1c-dd03-1ee4006ba6a5"
      },
      "execution_count": 14,
      "outputs": [
        {
          "output_type": "stream",
          "name": "stdout",
          "text": [
            "1\n",
            "4\n",
            "7\n"
          ]
        }
      ]
    },
    {
      "cell_type": "code",
      "source": [
        "s=\"hello\"\n",
        "r=len(s)\n",
        "for i in range(r):\n",
        "    print(i,\"=\", s[i])"
      ],
      "metadata": {
        "colab": {
          "base_uri": "https://localhost:8080/"
        },
        "id": "UT7EFQYD8Dne",
        "outputId": "74082862-3604-4741-9b4a-938f68797b2b"
      },
      "execution_count": 15,
      "outputs": [
        {
          "output_type": "stream",
          "name": "stdout",
          "text": [
            "0 = h\n",
            "1 = e\n",
            "2 = l\n",
            "3 = l\n",
            "4 = o\n"
          ]
        }
      ]
    },
    {
      "cell_type": "code",
      "source": [
        "s=\"hello\"\n",
        "r=len(s)\n",
        "for i in range(r):\n",
        "    print(i,\"=\", s[i])\n",
        "print(\"rest of the code\")"
      ],
      "metadata": {
        "colab": {
          "base_uri": "https://localhost:8080/"
        },
        "id": "ZPEs7M858HNt",
        "outputId": "488bc1f7-d0a7-4363-fed2-7441abbd8c6c"
      },
      "execution_count": 16,
      "outputs": [
        {
          "output_type": "stream",
          "name": "stdout",
          "text": [
            "0 = h\n",
            "1 = e\n",
            "2 = l\n",
            "3 = l\n",
            "4 = o\n",
            "rest of the code\n"
          ]
        }
      ]
    },
    {
      "cell_type": "code",
      "source": [
        "#BREAK\n",
        "\n",
        "for num in range(10):\n",
        "    if num == 5:\n",
        "      break\n",
        "    print(num)"
      ],
      "metadata": {
        "colab": {
          "base_uri": "https://localhost:8080/"
        },
        "id": "r_2bQOr-8NPH",
        "outputId": "44133ade-ab22-4608-da1f-e5b8cf2d3873"
      },
      "execution_count": 17,
      "outputs": [
        {
          "output_type": "stream",
          "name": "stdout",
          "text": [
            "0\n",
            "1\n",
            "2\n",
            "3\n",
            "4\n"
          ]
        }
      ]
    },
    {
      "cell_type": "code",
      "source": [
        "#CONTINUE\n",
        "for num in range(10):\n",
        "    if num == 5:\n",
        "      continue\n",
        "    print(num)"
      ],
      "metadata": {
        "colab": {
          "base_uri": "https://localhost:8080/"
        },
        "id": "OtsYbPWk8OpA",
        "outputId": "8c87c165-7ad8-4577-d3dd-ae79a7eb8560"
      },
      "execution_count": 18,
      "outputs": [
        {
          "output_type": "stream",
          "name": "stdout",
          "text": [
            "0\n",
            "1\n",
            "2\n",
            "3\n",
            "4\n",
            "6\n",
            "7\n",
            "8\n",
            "9\n"
          ]
        }
      ]
    },
    {
      "cell_type": "code",
      "source": [
        "for num in range(5):\n",
        "    if num == 2:\n",
        "      continue\n",
        "    print(num)"
      ],
      "metadata": {
        "colab": {
          "base_uri": "https://localhost:8080/"
        },
        "id": "ASmFBs698UXc",
        "outputId": "40354e27-f0ae-4444-aec0-bdb9c84f8329"
      },
      "execution_count": 19,
      "outputs": [
        {
          "output_type": "stream",
          "name": "stdout",
          "text": [
            "0\n",
            "1\n",
            "3\n",
            "4\n"
          ]
        }
      ]
    },
    {
      "cell_type": "code",
      "source": [
        "#PASS- its is written in situation where it is required but no need to be printed\n",
        "for number in range(5):\n",
        "    if number==3:\n",
        "        pass\n",
        "    else:\n",
        "        print(number)"
      ],
      "metadata": {
        "colab": {
          "base_uri": "https://localhost:8080/"
        },
        "id": "XXcF7dV38X7W",
        "outputId": "f54fa5ac-a253-45e9-d242-0cd2276cd3a6"
      },
      "execution_count": 20,
      "outputs": [
        {
          "output_type": "stream",
          "name": "stdout",
          "text": [
            "0\n",
            "1\n",
            "2\n",
            "4\n"
          ]
        }
      ]
    },
    {
      "cell_type": "code",
      "source": [
        "list=[1,2,3,4,5,6]\n",
        "print(list)\n",
        "target=int(input())\n",
        "for num in list:\n",
        "    if num==target:\n",
        "        print(f\"Number{target}found in list.\")\n",
        "        break\n",
        "else:\n",
        "        print(f\"Number{target}not found in list.\")"
      ],
      "metadata": {
        "colab": {
          "base_uri": "https://localhost:8080/"
        },
        "id": "bxpB1ssu8bYK",
        "outputId": "dcc6e075-e165-42a4-8748-4d636be81914"
      },
      "execution_count": 21,
      "outputs": [
        {
          "output_type": "stream",
          "name": "stdout",
          "text": [
            "[1, 2, 3, 4, 5, 6]\n",
            "5\n",
            "Number5found in list.\n"
          ]
        }
      ]
    }
  ]
}
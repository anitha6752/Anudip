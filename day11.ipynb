{
  "nbformat": 4,
  "nbformat_minor": 0,
  "metadata": {
    "colab": {
      "provenance": [],
      "authorship_tag": "ABX9TyPputjSlsdQf5vyPKs6lHJ8",
      "include_colab_link": true
    },
    "kernelspec": {
      "name": "python3",
      "display_name": "Python 3"
    },
    "language_info": {
      "name": "python"
    }
  },
  "cells": [
    {
      "cell_type": "markdown",
      "metadata": {
        "id": "view-in-github",
        "colab_type": "text"
      },
      "source": [
        "<a href=\"https://colab.research.google.com/github/anitha6752/Anudip/blob/main/day11.ipynb\" target=\"_parent\"><img src=\"https://colab.research.google.com/assets/colab-badge.svg\" alt=\"Open In Colab\"/></a>"
      ]
    },
    {
      "cell_type": "code",
      "source": [
        "#dictionary\n",
        "dict={\"row_id\":1,\"order_id\":\"abcde\",\"order_date\":\"14-5-2025\"}\n",
        "dict"
      ],
      "metadata": {
        "colab": {
          "base_uri": "https://localhost:8080/"
        },
        "id": "xOpnNYvCRWzz",
        "outputId": "2397668d-1601-4ffd-eab8-abf2c5ec685a"
      },
      "execution_count": 1,
      "outputs": [
        {
          "output_type": "execute_result",
          "data": {
            "text/plain": [
              "{'row_id': 1, 'order_id': 'abcde', 'order_date': '14-5-2025'}"
            ]
          },
          "metadata": {},
          "execution_count": 1
        }
      ]
    },
    {
      "cell_type": "code",
      "source": [
        "\n",
        "#dictionary\n",
        "dict={\"row_id\":1,\"order_id\":\"abcde\",\"order_date\":\"14-5-2025\"}\n",
        "dict"
      ],
      "metadata": {
        "colab": {
          "base_uri": "https://localhost:8080/"
        },
        "id": "vIs1hOU8Rhj8",
        "outputId": "7116a129-e134-43d1-d9af-e947d2e05084"
      },
      "execution_count": 2,
      "outputs": [
        {
          "output_type": "execute_result",
          "data": {
            "text/plain": [
              "{'row_id': 1, 'order_id': 'abcde', 'order_date': '14-5-2025'}"
            ]
          },
          "metadata": {},
          "execution_count": 2
        }
      ]
    },
    {
      "cell_type": "code",
      "source": [
        "d={\"name\":\"raj\",\"age\":50,\"gender\":\"male\"}\n",
        "type(d)"
      ],
      "metadata": {
        "colab": {
          "base_uri": "https://localhost:8080/"
        },
        "id": "7KlS-WrMR18W",
        "outputId": "e994a851-2df2-4214-804c-b1b0dbc9132e"
      },
      "execution_count": 3,
      "outputs": [
        {
          "output_type": "execute_result",
          "data": {
            "text/plain": [
              "dict"
            ]
          },
          "metadata": {},
          "execution_count": 3
        }
      ]
    },
    {
      "cell_type": "code",
      "source": [
        "a={1,2,3,4}\n",
        "type(a)"
      ],
      "metadata": {
        "colab": {
          "base_uri": "https://localhost:8080/"
        },
        "id": "EYPsfDY9R6PX",
        "outputId": "d57260e3-f209-46c6-c92a-caa1d5be4fb7"
      },
      "execution_count": 4,
      "outputs": [
        {
          "output_type": "execute_result",
          "data": {
            "text/plain": [
              "set"
            ]
          },
          "metadata": {},
          "execution_count": 4
        }
      ]
    },
    {
      "cell_type": "code",
      "source": [
        "#characteristics of dictionaries\n",
        "#unordered\n",
        "my_dict={\"name\":\"vini\",\"age\":21,\"city\":\"banglore\"}\n",
        "my_dict"
      ],
      "metadata": {
        "id": "Vlr1E3q8R-e6"
      },
      "execution_count": null,
      "outputs": []
    },
    {
      "cell_type": "code",
      "source": [
        "#characteristics of dictionaries\n",
        "#unordered\n",
        "my_dict={\"name\":\"vini\",\"age\":21,\"city\":\"banglore\"}\n",
        "my_dict"
      ],
      "metadata": {
        "colab": {
          "base_uri": "https://localhost:8080/"
        },
        "id": "4BXA2WaFSE0I",
        "outputId": "2297a54d-b4b6-42aa-93f2-527f9ee50610"
      },
      "execution_count": 7,
      "outputs": [
        {
          "output_type": "execute_result",
          "data": {
            "text/plain": [
              "{'name': 'vini', 'age': 21, 'city': 'banglore'}"
            ]
          },
          "metadata": {},
          "execution_count": 7
        }
      ]
    },
    {
      "cell_type": "code",
      "source": [
        "#unique keys\n",
        "my_dict={\"name\":\"vini\",\"age\":21,\"age\":25,\"age\":66}\n",
        "my_dict"
      ],
      "metadata": {
        "colab": {
          "base_uri": "https://localhost:8080/"
        },
        "id": "16s80RmrSUrk",
        "outputId": "35e66bcd-919b-4d4e-ab4f-d46d9dd982a7"
      },
      "execution_count": 8,
      "outputs": [
        {
          "output_type": "execute_result",
          "data": {
            "text/plain": [
              "{'name': 'vini', 'age': 66}"
            ]
          },
          "metadata": {},
          "execution_count": 8
        }
      ]
    },
    {
      "cell_type": "code",
      "source": [
        "#immutable\n",
        "my_dic={(1,2):\"point\",\"name\":\"alice\"}\n",
        "my_dic"
      ],
      "metadata": {
        "colab": {
          "base_uri": "https://localhost:8080/"
        },
        "id": "N7nVk8gASaZe",
        "outputId": "8ef30fbe-dcc4-4b45-9439-2d7f3d28197a"
      },
      "execution_count": 9,
      "outputs": [
        {
          "output_type": "execute_result",
          "data": {
            "text/plain": [
              "{(1, 2): 'point', 'name': 'alice'}"
            ]
          },
          "metadata": {},
          "execution_count": 9
        }
      ]
    },
    {
      "cell_type": "code",
      "source": [
        "#accessing a value by key\n",
        "my_dict={\n",
        "    \"name\":'john',\n",
        "    \"age\":34,\n",
        "    \"hobbies\":\"reading\",\n",
        "    \"education\":\"degree\"\n",
        "}\n",
        "my_dict[\"age\"]"
      ],
      "metadata": {
        "colab": {
          "base_uri": "https://localhost:8080/"
        },
        "id": "khGW-0VgSbom",
        "outputId": "a02f42f7-e475-4002-87e1-e445bfb228bf"
      },
      "execution_count": 10,
      "outputs": [
        {
          "output_type": "execute_result",
          "data": {
            "text/plain": [
              "34"
            ]
          },
          "metadata": {},
          "execution_count": 10
        }
      ]
    },
    {
      "cell_type": "code",
      "source": [
        "my_dict[\"education\"]"
      ],
      "metadata": {
        "colab": {
          "base_uri": "https://localhost:8080/",
          "height": 36
        },
        "id": "uL7monFBSgDt",
        "outputId": "3e71b495-c1ab-47ef-eed1-d548570b3bab"
      },
      "execution_count": 11,
      "outputs": [
        {
          "output_type": "execute_result",
          "data": {
            "text/plain": [
              "'degree'"
            ],
            "application/vnd.google.colaboratory.intrinsic+json": {
              "type": "string"
            }
          },
          "metadata": {},
          "execution_count": 11
        }
      ]
    },
    {
      "cell_type": "code",
      "source": [
        "#using the get() method\n",
        "my_dic={\"name\":'Anu','age':20}\n",
        "my_dic"
      ],
      "metadata": {
        "colab": {
          "base_uri": "https://localhost:8080/"
        },
        "id": "zcVx27GtSjUX",
        "outputId": "bc232a79-c4f1-4360-fbfd-c71871a9c320"
      },
      "execution_count": 15,
      "outputs": [
        {
          "output_type": "execute_result",
          "data": {
            "text/plain": [
              "{'name': 'Anu', 'age': 20}"
            ]
          },
          "metadata": {},
          "execution_count": 15
        }
      ]
    },
    {
      "cell_type": "code",
      "source": [
        "my_dic.get(\"age\")"
      ],
      "metadata": {
        "colab": {
          "base_uri": "https://localhost:8080/"
        },
        "id": "VkflNrP_Sl1T",
        "outputId": "d77ace6b-0bda-4ccd-f788-82b2e964c972"
      },
      "execution_count": 13,
      "outputs": [
        {
          "output_type": "execute_result",
          "data": {
            "text/plain": [
              "20"
            ]
          },
          "metadata": {},
          "execution_count": 13
        }
      ]
    },
    {
      "cell_type": "code",
      "source": [
        "my_dic.get(\"name\")"
      ],
      "metadata": {
        "colab": {
          "base_uri": "https://localhost:8080/",
          "height": 36
        },
        "id": "NT6e_RUOSpCG",
        "outputId": "711d897d-b3a4-4045-92d2-395944c6849b"
      },
      "execution_count": 16,
      "outputs": [
        {
          "output_type": "execute_result",
          "data": {
            "text/plain": [
              "'Anu'"
            ],
            "application/vnd.google.colaboratory.intrinsic+json": {
              "type": "string"
            }
          },
          "metadata": {},
          "execution_count": 16
        }
      ]
    },
    {
      "cell_type": "code",
      "source": [
        "#accessing all keys\n",
        "my_dic.keys()"
      ],
      "metadata": {
        "colab": {
          "base_uri": "https://localhost:8080/"
        },
        "id": "9z3dIOI2Sroo",
        "outputId": "f6ca1d17-dd39-4827-e199-2317fb3492e4"
      },
      "execution_count": 17,
      "outputs": [
        {
          "output_type": "execute_result",
          "data": {
            "text/plain": [
              "dict_keys(['name', 'age'])"
            ]
          },
          "metadata": {},
          "execution_count": 17
        }
      ]
    },
    {
      "cell_type": "code",
      "source": [
        "my_dict={\"name\":\"krishna\",\"age\":21,\"city\":\"banglore\"}\n",
        "my_dict.keys()"
      ],
      "metadata": {
        "colab": {
          "base_uri": "https://localhost:8080/"
        },
        "id": "aOS47b1tS3L5",
        "outputId": "12b30091-6565-40b3-8d05-fb13a87c6a07"
      },
      "execution_count": 18,
      "outputs": [
        {
          "output_type": "execute_result",
          "data": {
            "text/plain": [
              "dict_keys(['name', 'age', 'city'])"
            ]
          },
          "metadata": {},
          "execution_count": 18
        }
      ]
    },
    {
      "cell_type": "code",
      "source": [
        "#accessing all values\n",
        "my_dict={\"name\":\"krishna\",\"age\":21,\"city\":\"banglore\"}\n",
        "my_dict.values()"
      ],
      "metadata": {
        "colab": {
          "base_uri": "https://localhost:8080/"
        },
        "id": "80ye_7JnS6z9",
        "outputId": "d0ff33fb-5730-486e-f4b3-4e91f9fbbd88"
      },
      "execution_count": 19,
      "outputs": [
        {
          "output_type": "execute_result",
          "data": {
            "text/plain": [
              "dict_values(['krishna', 21, 'banglore'])"
            ]
          },
          "metadata": {},
          "execution_count": 19
        }
      ]
    },
    {
      "cell_type": "code",
      "source": [
        "nested_dict={\n",
        "    \"person1\":{\n",
        "    \"name\":'alice',\n",
        "     \"age\":34,\n",
        "    \"city\":'new york'\n",
        "},\n",
        "    \"person2\":{\n",
        "        \"name\":'john',\n",
        "        \"age\":24,\n",
        "        \"city\":'london'}\n",
        "}\n",
        "nested_dict"
      ],
      "metadata": {
        "colab": {
          "base_uri": "https://localhost:8080/"
        },
        "id": "uxARnUpZS-dD",
        "outputId": "03cafcda-ac55-46cc-e086-aaae473a12bd"
      },
      "execution_count": 20,
      "outputs": [
        {
          "output_type": "execute_result",
          "data": {
            "text/plain": [
              "{'person1': {'name': 'alice', 'age': 34, 'city': 'new york'},\n",
              " 'person2': {'name': 'john', 'age': 24, 'city': 'london'}}"
            ]
          },
          "metadata": {},
          "execution_count": 20
        }
      ]
    },
    {
      "cell_type": "code",
      "source": [
        "print(nested_dict['person1']['name'])\n"
      ],
      "metadata": {
        "colab": {
          "base_uri": "https://localhost:8080/"
        },
        "id": "BT4Sx7UPTEKL",
        "outputId": "aa83bd0e-3317-46a7-cadc-f1bef6e30b22"
      },
      "execution_count": 22,
      "outputs": [
        {
          "output_type": "stream",
          "name": "stdout",
          "text": [
            "alice\n"
          ]
        }
      ]
    },
    {
      "cell_type": "code",
      "source": [
        "nested_dict[\"person3\"]={\n",
        "    \"name\":'ali',\n",
        "     \"age\":38,\n",
        "    \"city\":'new delhi'\n",
        "}\n",
        "nested_dict\n"
      ],
      "metadata": {
        "colab": {
          "base_uri": "https://localhost:8080/"
        },
        "id": "KquL6bFsTIez",
        "outputId": "eadedf5f-294c-4c4e-ad2f-d008b8188f57"
      },
      "execution_count": 23,
      "outputs": [
        {
          "output_type": "execute_result",
          "data": {
            "text/plain": [
              "{'person1': {'name': 'alice', 'age': 34, 'city': 'new york'},\n",
              " 'person2': {'name': 'john', 'age': 24, 'city': 'london'},\n",
              " 'person3': {'name': 'ali', 'age': 38, 'city': 'new delhi'}}"
            ]
          },
          "metadata": {},
          "execution_count": 23
        }
      ]
    },
    {
      "cell_type": "code",
      "source": [
        "#modifying elements in a nested dictionary\n",
        "nested_dict['person1']['age']=45\n",
        "nested_dict"
      ],
      "metadata": {
        "colab": {
          "base_uri": "https://localhost:8080/"
        },
        "id": "knKzOQx5TNrI",
        "outputId": "75be3dfa-ad97-448d-b3eb-eb6c4ebe7e65"
      },
      "execution_count": 24,
      "outputs": [
        {
          "output_type": "execute_result",
          "data": {
            "text/plain": [
              "{'person1': {'name': 'alice', 'age': 45, 'city': 'new york'},\n",
              " 'person2': {'name': 'john', 'age': 24, 'city': 'london'},\n",
              " 'person3': {'name': 'ali', 'age': 38, 'city': 'new delhi'}}"
            ]
          },
          "metadata": {},
          "execution_count": 24
        }
      ]
    },
    {
      "cell_type": "code",
      "source": [
        "#using del\n",
        "mydic={\n",
        "    'name':'grey',\n",
        "    'age':34,\n",
        "    'city':'london',\n",
        "    'profession':'software'\n",
        "}\n",
        "del mydic['age']\n",
        "mydic"
      ],
      "metadata": {
        "colab": {
          "base_uri": "https://localhost:8080/"
        },
        "id": "7kUu5dCYTPLZ",
        "outputId": "56ee9a0f-4159-4927-917b-039e939e36ef"
      },
      "execution_count": 25,
      "outputs": [
        {
          "output_type": "execute_result",
          "data": {
            "text/plain": [
              "{'name': 'grey', 'city': 'london', 'profession': 'software'}"
            ]
          },
          "metadata": {},
          "execution_count": 25
        }
      ]
    },
    {
      "cell_type": "code",
      "source": [
        "#pop\n",
        "mydic"
      ],
      "metadata": {
        "colab": {
          "base_uri": "https://localhost:8080/"
        },
        "id": "iAXPqH-oTTXG",
        "outputId": "2f246af3-9444-46b7-f3da-a334b1417770"
      },
      "execution_count": 26,
      "outputs": [
        {
          "output_type": "execute_result",
          "data": {
            "text/plain": [
              "{'name': 'grey', 'city': 'london', 'profession': 'software'}"
            ]
          },
          "metadata": {},
          "execution_count": 26
        }
      ]
    },
    {
      "cell_type": "code",
      "source": [
        "a=mydic.pop('name')\n",
        "a\n"
      ],
      "metadata": {
        "colab": {
          "base_uri": "https://localhost:8080/",
          "height": 36
        },
        "id": "yyd1MgaBTZZq",
        "outputId": "8091c15f-a411-45d8-bafe-e7ca3bbd483c"
      },
      "execution_count": 27,
      "outputs": [
        {
          "output_type": "execute_result",
          "data": {
            "text/plain": [
              "'grey'"
            ],
            "application/vnd.google.colaboratory.intrinsic+json": {
              "type": "string"
            }
          },
          "metadata": {},
          "execution_count": 27
        }
      ]
    },
    {
      "cell_type": "code",
      "source": [],
      "metadata": {
        "id": "EPDBMuxyTa95"
      },
      "execution_count": null,
      "outputs": []
    }
  ]
}
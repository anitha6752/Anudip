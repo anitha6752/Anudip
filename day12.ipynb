{
  "nbformat": 4,
  "nbformat_minor": 0,
  "metadata": {
    "colab": {
      "provenance": [],
      "authorship_tag": "ABX9TyO5yH0ZG1VuPNB9r91sBTQ6",
      "include_colab_link": true
    },
    "kernelspec": {
      "name": "python3",
      "display_name": "Python 3"
    },
    "language_info": {
      "name": "python"
    }
  },
  "cells": [
    {
      "cell_type": "markdown",
      "metadata": {
        "id": "view-in-github",
        "colab_type": "text"
      },
      "source": [
        "<a href=\"https://colab.research.google.com/github/anitha6752/Anudip/blob/main/day12.ipynb\" target=\"_parent\"><img src=\"https://colab.research.google.com/assets/colab-badge.svg\" alt=\"Open In Colab\"/></a>"
      ]
    },
    {
      "cell_type": "code",
      "execution_count": 1,
      "metadata": {
        "colab": {
          "base_uri": "https://localhost:8080/"
        },
        "id": "o4ROKIdzT6Mf",
        "outputId": "1320d760-97a4-4895-a729-d50112508854"
      },
      "outputs": [
        {
          "output_type": "stream",
          "name": "stdout",
          "text": [
            "Enter the name 7\n",
            "Hello 7, Welcome to the party ..\n"
          ]
        }
      ],
      "source": [
        "#functions\n",
        "def greet():\n",
        "    name = input(\"Enter the name \")\n",
        "    print(f\"Hello {name}, Welcome to the party ..\")\n",
        "greet()\n"
      ]
    },
    {
      "cell_type": "code",
      "source": [
        "def calculation():\n",
        "    a = 18\n",
        "    b = 44\n",
        "    print(a+b)\n",
        "    print(a-b)\n",
        "    print(a*b)\n",
        "    print(a%b)\n",
        "calculation()"
      ],
      "metadata": {
        "colab": {
          "base_uri": "https://localhost:8080/"
        },
        "id": "4OBUzxsGUGcw",
        "outputId": "b222c854-35eb-4137-d8f9-a7c21295b13d"
      },
      "execution_count": 2,
      "outputs": [
        {
          "output_type": "stream",
          "name": "stdout",
          "text": [
            "62\n",
            "-26\n",
            "792\n",
            "18\n"
          ]
        }
      ]
    },
    {
      "cell_type": "code",
      "source": [
        "def mul():\n",
        "    num = int(input(\"enter a number for multiplication: \"))\n",
        "    for i in range(1,11):\n",
        "        print(f\"(num) x  {i} = {num * i}\")"
      ],
      "metadata": {
        "id": "UyyvdeQjUN8u"
      },
      "execution_count": 3,
      "outputs": []
    },
    {
      "cell_type": "code",
      "source": [
        "def mul(num):\n",
        "    for i in range(1,12):\n",
        "        print(f\"{num} x {i} = {num*i}\")\n",
        "mul(9)"
      ],
      "metadata": {
        "colab": {
          "base_uri": "https://localhost:8080/"
        },
        "id": "AatmCXK1UTjm",
        "outputId": "5afc5710-1916-413b-92fe-8ff615c7ac6b"
      },
      "execution_count": 4,
      "outputs": [
        {
          "output_type": "stream",
          "name": "stdout",
          "text": [
            "9 x 1 = 9\n",
            "9 x 2 = 18\n",
            "9 x 3 = 27\n",
            "9 x 4 = 36\n",
            "9 x 5 = 45\n",
            "9 x 6 = 54\n",
            "9 x 7 = 63\n",
            "9 x 8 = 72\n",
            "9 x 9 = 81\n",
            "9 x 10 = 90\n",
            "9 x 11 = 99\n"
          ]
        }
      ]
    }
  ]
}
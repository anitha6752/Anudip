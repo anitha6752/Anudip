{
  "nbformat": 4,
  "nbformat_minor": 0,
  "metadata": {
    "colab": {
      "provenance": [],
      "authorship_tag": "ABX9TyM2u83tr7eqHuOOtuou//ly",
      "include_colab_link": true
    },
    "kernelspec": {
      "name": "python3",
      "display_name": "Python 3"
    },
    "language_info": {
      "name": "python"
    }
  },
  "cells": [
    {
      "cell_type": "markdown",
      "metadata": {
        "id": "view-in-github",
        "colab_type": "text"
      },
      "source": [
        "<a href=\"https://colab.research.google.com/github/anitha6752/Anudip/blob/main/june2.ipynb\" target=\"_parent\"><img src=\"https://colab.research.google.com/assets/colab-badge.svg\" alt=\"Open In Colab\"/></a>"
      ]
    },
    {
      "cell_type": "code",
      "execution_count": 1,
      "metadata": {
        "colab": {
          "base_uri": "https://localhost:8080/"
        },
        "id": "kgHgI30J8KoY",
        "outputId": "6dd7ad39-6a28-4a0b-f5cc-1c82b7bc2509"
      },
      "outputs": [
        {
          "output_type": "stream",
          "name": "stdout",
          "text": [
            "Median Income: 67500.0\n"
          ]
        }
      ],
      "source": [
        "import numpy as np\n",
        "incomes=np.array([45000,55000,65000,70000,80000,90000])\n",
        "median_income=np.median(incomes)\n",
        "print(\"Median Income:\",median_income)"
      ]
    },
    {
      "cell_type": "code",
      "source": [
        "#mean\n",
        "import numpy as np\n",
        "temperatures=np.array([72,68,74,80,79,82,75])\n",
        "average_temperature=np.mean(temperatures)\n",
        "print(\"Average Temperature:\",average_temperature)"
      ],
      "metadata": {
        "colab": {
          "base_uri": "https://localhost:8080/"
        },
        "id": "YsbPkfkf8kXD",
        "outputId": "a41383bd-9e11-4c71-e61c-a84809f5e559"
      },
      "execution_count": 2,
      "outputs": [
        {
          "output_type": "stream",
          "name": "stdout",
          "text": [
            "Average Temperature: 75.71428571428571\n"
          ]
        }
      ]
    },
    {
      "cell_type": "code",
      "source": [
        "#standard deviation\n",
        "import numpy as np\n",
        "classA=np.array([85,88,90,92,95])\n",
        "classB=np.array([70,80,85,95,100])\n",
        "np.std(classA)"
      ],
      "metadata": {
        "colab": {
          "base_uri": "https://localhost:8080/"
        },
        "id": "WarMcFQA8p6i",
        "outputId": "8b5f3978-9281-45be-948c-b49d4e714f9e"
      },
      "execution_count": 3,
      "outputs": [
        {
          "output_type": "execute_result",
          "data": {
            "text/plain": [
              "np.float64(3.40587727318528)"
            ]
          },
          "metadata": {},
          "execution_count": 3
        }
      ]
    },
    {
      "cell_type": "code",
      "source": [
        "np.std(classB)"
      ],
      "metadata": {
        "colab": {
          "base_uri": "https://localhost:8080/"
        },
        "id": "KWgi9aOi8pzt",
        "outputId": "2207776d-ff5c-4925-d9d6-0f5fa93eb30f"
      },
      "execution_count": 5,
      "outputs": [
        {
          "output_type": "execute_result",
          "data": {
            "text/plain": [
              "np.float64(10.677078252031311)"
            ]
          },
          "metadata": {},
          "execution_count": 5
        }
      ]
    },
    {
      "cell_type": "code",
      "source": [
        "#varof\n",
        "prd_a=np.array([4,3])\n",
        "prd_b=np.array([2,8])\n",
        "np.var(prd_a)"
      ],
      "metadata": {
        "colab": {
          "base_uri": "https://localhost:8080/"
        },
        "id": "o3mCpuVK8wrY",
        "outputId": "c5f23ed5-7fff-41a9-dc85-45e3a5c45741"
      },
      "execution_count": 4,
      "outputs": [
        {
          "output_type": "execute_result",
          "data": {
            "text/plain": [
              "np.float64(0.25)"
            ]
          },
          "metadata": {},
          "execution_count": 4
        }
      ]
    },
    {
      "cell_type": "code",
      "source": [
        "np.var(prd_b)"
      ],
      "metadata": {
        "colab": {
          "base_uri": "https://localhost:8080/"
        },
        "id": "WVJy90sr83E9",
        "outputId": "2854ddb1-eec2-4552-8f63-77fa9e3e84f0"
      },
      "execution_count": 6,
      "outputs": [
        {
          "output_type": "execute_result",
          "data": {
            "text/plain": [
              "np.float64(9.0)"
            ]
          },
          "metadata": {},
          "execution_count": 6
        }
      ]
    },
    {
      "cell_type": "code",
      "source": [
        "daily_traffic=np.array([1200,1350,1480,1650,1800,1550,1680])\n",
        "print(\"min Traffic:\",np.min(daily_traffic))\n",
        "print(\"max Traffic:\",np.max(daily_traffic))"
      ],
      "metadata": {
        "colab": {
          "base_uri": "https://localhost:8080/"
        },
        "id": "aviJJrEh84L2",
        "outputId": "f815470b-1cf0-4c81-be06-5fb255d60124"
      },
      "execution_count": 7,
      "outputs": [
        {
          "output_type": "stream",
          "name": "stdout",
          "text": [
            "min Traffic: 1200\n",
            "max Traffic: 1800\n"
          ]
        }
      ]
    },
    {
      "cell_type": "code",
      "source": [
        "test_scores=np.array([65,75,80,85,90,92,94,95,96,98,100,102,104,106,108,110,112,114,116,118,120,122,124,126,128,130,132,134,136,138])\n",
        "print(\"25th Percentile:\",np.percentile(test_scores,25))\n",
        "print(\"50th Percentile (Median):\",np.percentile(test_scores,50))\n",
        "print(\"75th Percentile:\",np.percentile(test_scores,75))\n",
        "print(\"90th Percentile:\",np.percentile(test_scores,90))"
      ],
      "metadata": {
        "colab": {
          "base_uri": "https://localhost:8080/"
        },
        "id": "7uM139bG889Y",
        "outputId": "49b3adb6-0c3e-4780-be5e-c28222099888"
      },
      "execution_count": 8,
      "outputs": [
        {
          "output_type": "stream",
          "name": "stdout",
          "text": [
            "25th Percentile: 95.25\n",
            "50th Percentile (Median): 109.0\n",
            "75th Percentile: 123.5\n",
            "90th Percentile: 132.2\n"
          ]
        }
      ]
    },
    {
      "cell_type": "code",
      "source": [
        "#npy\n",
        "#np.save\n",
        "arr=np.array([1,2,3,4,5])\n",
        "np.save('my_array.npy',arr)"
      ],
      "metadata": {
        "id": "BeXwhi4x9AU9"
      },
      "execution_count": 9,
      "outputs": []
    },
    {
      "cell_type": "code",
      "source": [
        "loaded_arr=np.load('my_array.npy')\n",
        "print(loaded_arr)"
      ],
      "metadata": {
        "colab": {
          "base_uri": "https://localhost:8080/"
        },
        "id": "D5pDvpGo9DUG",
        "outputId": "7867a20c-4cf9-4c73-ca12-b65b11bb0546"
      },
      "execution_count": 10,
      "outputs": [
        {
          "output_type": "stream",
          "name": "stdout",
          "text": [
            "[1 2 3 4 5]\n"
          ]
        }
      ]
    },
    {
      "cell_type": "code",
      "source": [
        "arr=np.array([[1,2,3],[4,5,6]])\n",
        "np.savetxt('array.txt',arr)"
      ],
      "metadata": {
        "id": "kCT7NSkH9GnD"
      },
      "execution_count": 11,
      "outputs": []
    }
  ]
}